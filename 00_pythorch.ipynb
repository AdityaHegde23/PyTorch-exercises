{
  "nbformat": 4,
  "nbformat_minor": 0,
  "metadata": {
    "colab": {
      "provenance": [],
      "gpuType": "T4",
      "authorship_tag": "ABX9TyNl78JbKhq5ZDGypkKpvtH7",
      "include_colab_link": true
    },
    "kernelspec": {
      "name": "python3",
      "display_name": "Python 3"
    },
    "language_info": {
      "name": "python"
    },
    "accelerator": "GPU"
  },
  "cells": [
    {
      "cell_type": "markdown",
      "metadata": {
        "id": "view-in-github",
        "colab_type": "text"
      },
      "source": [
        "<a href=\"https://colab.research.google.com/github/AdityaHegde23/PyTorch-exercises/blob/main/00_pythorch.ipynb\" target=\"_parent\"><img src=\"https://colab.research.google.com/assets/colab-badge.svg\" alt=\"Open In Colab\"/></a>"
      ]
    },
    {
      "cell_type": "code",
      "execution_count": null,
      "metadata": {
        "id": "66p2BJaLP8cJ"
      },
      "outputs": [],
      "source": [
        "#Pytorch basics and exercises"
      ]
    },
    {
      "cell_type": "code",
      "source": [
        "import torch\n",
        "import pandas as pd\n",
        "import numpy as np\n",
        "import matplotlib.pyplot as plt\n",
        "print(torch.__version__)"
      ],
      "metadata": {
        "colab": {
          "base_uri": "https://localhost:8080/"
        },
        "id": "ccu9n2qQQPz2",
        "outputId": "c7858433-9243-48bc-c8df-db572a1fe523"
      },
      "execution_count": null,
      "outputs": [
        {
          "output_type": "stream",
          "name": "stdout",
          "text": [
            "2.1.0+cu121\n"
          ]
        }
      ]
    },
    {
      "cell_type": "code",
      "source": [
        "TENSOR = torch.tensor([[[1,2,3],[1,3,4],[56,55,6]],[[66,55,1],[77,78,1],[99,88,1]]])"
      ],
      "metadata": {
        "id": "VdDlVX13SolX"
      },
      "execution_count": null,
      "outputs": []
    },
    {
      "cell_type": "code",
      "source": [
        "TENSOR\n"
      ],
      "metadata": {
        "colab": {
          "base_uri": "https://localhost:8080/"
        },
        "id": "MEIR-iTUpI9j",
        "outputId": "9fd585f0-709e-4632-8f39-7d2a301e78f8"
      },
      "execution_count": null,
      "outputs": [
        {
          "output_type": "execute_result",
          "data": {
            "text/plain": [
              "tensor([[[ 1,  2,  3],\n",
              "         [ 1,  3,  4],\n",
              "         [56, 55,  6]],\n",
              "\n",
              "        [[66, 55,  1],\n",
              "         [77, 78,  1],\n",
              "         [99, 88,  1]]])"
            ]
          },
          "metadata": {},
          "execution_count": 4
        }
      ]
    },
    {
      "cell_type": "code",
      "source": [
        "TENSOR.ndim\n"
      ],
      "metadata": {
        "colab": {
          "base_uri": "https://localhost:8080/"
        },
        "id": "Pgo13IhPpovi",
        "outputId": "671b5273-c0e5-43c9-9f0f-487ab0fba402"
      },
      "execution_count": null,
      "outputs": [
        {
          "output_type": "execute_result",
          "data": {
            "text/plain": [
              "3"
            ]
          },
          "metadata": {},
          "execution_count": 5
        }
      ]
    },
    {
      "cell_type": "code",
      "source": [
        "TENSOR.shape"
      ],
      "metadata": {
        "colab": {
          "base_uri": "https://localhost:8080/"
        },
        "id": "nru7VPGcprPQ",
        "outputId": "c0a7b7ba-256c-4fcb-cb6e-0dc207d7882f"
      },
      "execution_count": null,
      "outputs": [
        {
          "output_type": "execute_result",
          "data": {
            "text/plain": [
              "torch.Size([2, 3, 3])"
            ]
          },
          "metadata": {},
          "execution_count": 6
        }
      ]
    },
    {
      "cell_type": "code",
      "source": [
        "#Create random tensor\n",
        "random_tensor = torch.rand(3,4,8)"
      ],
      "metadata": {
        "id": "vk1LtJyGqAAl"
      },
      "execution_count": null,
      "outputs": []
    },
    {
      "cell_type": "code",
      "source": [
        "random_tensor"
      ],
      "metadata": {
        "colab": {
          "base_uri": "https://localhost:8080/"
        },
        "id": "ykGqt8SmIYms",
        "outputId": "19846194-8a94-4f8f-d54c-10522e8a9ef3"
      },
      "execution_count": null,
      "outputs": [
        {
          "output_type": "execute_result",
          "data": {
            "text/plain": [
              "tensor([[[0.0929, 0.4367, 0.7227, 0.1688, 0.1327, 0.6506, 0.2141, 0.2330],\n",
              "         [0.4011, 0.7960, 0.7347, 0.1921, 0.4164, 0.3244, 0.9308, 0.1086],\n",
              "         [0.5008, 0.5934, 0.9556, 0.4483, 0.1065, 0.8872, 0.7527, 0.5986],\n",
              "         [0.1388, 0.2990, 0.8511, 0.5139, 0.6783, 0.4601, 0.2514, 0.1213]],\n",
              "\n",
              "        [[0.1267, 0.6756, 0.1251, 0.6950, 0.7494, 0.7390, 0.2515, 0.0562],\n",
              "         [0.0237, 0.9210, 0.4610, 0.6752, 0.7801, 0.0195, 0.5913, 0.3533],\n",
              "         [0.1185, 0.6195, 0.3430, 0.3073, 0.7691, 0.4196, 0.6211, 0.6455],\n",
              "         [0.9770, 0.5565, 0.3358, 0.7824, 0.4223, 0.3408, 0.5755, 0.1750]],\n",
              "\n",
              "        [[0.4741, 0.0735, 0.1680, 0.6481, 0.3766, 0.0363, 0.4118, 0.0940],\n",
              "         [0.8347, 0.7616, 0.7525, 0.7530, 0.2433, 0.9555, 0.6144, 0.4612],\n",
              "         [0.3004, 0.8808, 0.6838, 0.0946, 0.3144, 0.0931, 0.5988, 0.6101],\n",
              "         [0.4108, 0.1618, 0.8664, 0.6293, 0.5405, 0.0924, 0.1970, 0.5098]]])"
            ]
          },
          "metadata": {},
          "execution_count": 8
        }
      ]
    },
    {
      "cell_type": "code",
      "source": [
        " x = torch.rand(3,7,8)"
      ],
      "metadata": {
        "id": "rwfTJF-RI75r"
      },
      "execution_count": null,
      "outputs": []
    },
    {
      "cell_type": "code",
      "source": [
        "x.max()"
      ],
      "metadata": {
        "colab": {
          "base_uri": "https://localhost:8080/"
        },
        "id": "Wa6WiDWswwrW",
        "outputId": "a6db42de-abaf-46e3-b8e3-e49dc89006f5"
      },
      "execution_count": null,
      "outputs": [
        {
          "output_type": "execute_result",
          "data": {
            "text/plain": [
              "tensor(0.9968)"
            ]
          },
          "metadata": {},
          "execution_count": 12
        }
      ]
    },
    {
      "cell_type": "code",
      "source": [
        "#regular element level multiplication\n",
        "y = x*x"
      ],
      "metadata": {
        "id": "cw85jXWAe0F3"
      },
      "execution_count": null,
      "outputs": []
    },
    {
      "cell_type": "code",
      "source": [
        "y.shape"
      ],
      "metadata": {
        "colab": {
          "base_uri": "https://localhost:8080/"
        },
        "id": "Rn4b5P5HwkGx",
        "outputId": "24dc05cd-e314-490a-a462-226df3eae89c"
      },
      "execution_count": null,
      "outputs": [
        {
          "output_type": "execute_result",
          "data": {
            "text/plain": [
              "torch.Size([3, 7, 8])"
            ]
          },
          "metadata": {},
          "execution_count": 22
        }
      ]
    },
    {
      "cell_type": "code",
      "source": [
        "#Matrix transpose\n",
        "x.T"
      ],
      "metadata": {
        "colab": {
          "base_uri": "https://localhost:8080/"
        },
        "id": "jGCJA7QIwqTh",
        "outputId": "92518678-c8ef-4f90-e267-44dce69aad02"
      },
      "execution_count": null,
      "outputs": [
        {
          "output_type": "execute_result",
          "data": {
            "text/plain": [
              "tensor([[[0.5314, 0.9082, 0.6110],\n",
              "         [0.9043, 0.8740, 0.8277],\n",
              "         [0.4061, 0.1403, 0.1518],\n",
              "         [0.4064, 0.6678, 0.6721],\n",
              "         [0.9444, 0.6352, 0.1678],\n",
              "         [0.3833, 0.7627, 0.3975],\n",
              "         [0.7796, 0.3170, 0.8924]],\n",
              "\n",
              "        [[0.5177, 0.8814, 0.1200],\n",
              "         [0.7271, 0.3272, 0.1799],\n",
              "         [0.5862, 0.4114, 0.1465],\n",
              "         [0.3745, 0.9867, 0.4565],\n",
              "         [0.1970, 0.3410, 0.9163],\n",
              "         [0.0757, 0.9499, 0.4441],\n",
              "         [0.5917, 0.3360, 0.9968]],\n",
              "\n",
              "        [[0.8932, 0.6084, 0.1426],\n",
              "         [0.9576, 0.7479, 0.5305],\n",
              "         [0.8348, 0.7342, 0.5542],\n",
              "         [0.9333, 0.0274, 0.5859],\n",
              "         [0.4436, 0.1431, 0.9518],\n",
              "         [0.4386, 0.1916, 0.5650],\n",
              "         [0.0065, 0.0063, 0.4900]],\n",
              "\n",
              "        [[0.8857, 0.1232, 0.6564],\n",
              "         [0.1233, 0.1005, 0.2733],\n",
              "         [0.7461, 0.2673, 0.4829],\n",
              "         [0.4732, 0.7885, 0.7588],\n",
              "         [0.5813, 0.7200, 0.8132],\n",
              "         [0.8198, 0.8177, 0.3869],\n",
              "         [0.6358, 0.5810, 0.4508]],\n",
              "\n",
              "        [[0.3309, 0.9288, 0.2142],\n",
              "         [0.4344, 0.3674, 0.7793],\n",
              "         [0.8395, 0.0106, 0.3614],\n",
              "         [0.7664, 0.3838, 0.5805],\n",
              "         [0.1987, 0.5793, 0.5962],\n",
              "         [0.3582, 0.3716, 0.1806],\n",
              "         [0.2739, 0.1950, 0.0406]],\n",
              "\n",
              "        [[0.0173, 0.5986, 0.6167],\n",
              "         [0.0050, 0.3584, 0.7238],\n",
              "         [0.3520, 0.2156, 0.6252],\n",
              "         [0.8800, 0.5418, 0.6994],\n",
              "         [0.9589, 0.5606, 0.6500],\n",
              "         [0.0919, 0.4012, 0.6805],\n",
              "         [0.0105, 0.9438, 0.6268]],\n",
              "\n",
              "        [[0.5881, 0.5599, 0.2709],\n",
              "         [0.7881, 0.5945, 0.6490],\n",
              "         [0.9024, 0.7530, 0.6356],\n",
              "         [0.8077, 0.3052, 0.2312],\n",
              "         [0.2947, 0.7746, 0.2720],\n",
              "         [0.9377, 0.0851, 0.6228],\n",
              "         [0.6152, 0.9159, 0.0125]],\n",
              "\n",
              "        [[0.1412, 0.2091, 0.1306],\n",
              "         [0.8449, 0.7126, 0.0583],\n",
              "         [0.2238, 0.7986, 0.3324],\n",
              "         [0.6052, 0.7990, 0.2811],\n",
              "         [0.7369, 0.7345, 0.0334],\n",
              "         [0.0760, 0.4092, 0.8991],\n",
              "         [0.1990, 0.0990, 0.4258]]])"
            ]
          },
          "metadata": {},
          "execution_count": 27
        }
      ]
    },
    {
      "cell_type": "code",
      "source": [
        "torch.manual_seed(42)\n",
        "torch.rand(3,4)"
      ],
      "metadata": {
        "colab": {
          "base_uri": "https://localhost:8080/"
        },
        "id": "LwGGdj0YxZmt",
        "outputId": "3d3916b0-f66c-4eae-f792-344eebc80d29"
      },
      "execution_count": null,
      "outputs": [
        {
          "output_type": "execute_result",
          "data": {
            "text/plain": [
              "tensor([[0.8823, 0.9150, 0.3829, 0.9593],\n",
              "        [0.3904, 0.6009, 0.2566, 0.7936],\n",
              "        [0.9408, 0.1332, 0.9346, 0.5936]])"
            ]
          },
          "metadata": {},
          "execution_count": 33
        }
      ]
    },
    {
      "cell_type": "code",
      "source": [
        "x.unsqueeze(0)"
      ],
      "metadata": {
        "colab": {
          "base_uri": "https://localhost:8080/"
        },
        "id": "xnaOApUC0QOh",
        "outputId": "7a7c97ca-e40d-47dd-81cd-fd1900c17b28"
      },
      "execution_count": null,
      "outputs": [
        {
          "output_type": "execute_result",
          "data": {
            "text/plain": [
              "tensor([[[[0.5314, 0.5177, 0.8932, 0.8857, 0.3309, 0.0173, 0.5881, 0.1412],\n",
              "          [0.9043, 0.7271, 0.9576, 0.1233, 0.4344, 0.0050, 0.7881, 0.8449],\n",
              "          [0.4061, 0.5862, 0.8348, 0.7461, 0.8395, 0.3520, 0.9024, 0.2238],\n",
              "          [0.4064, 0.3745, 0.9333, 0.4732, 0.7664, 0.8800, 0.8077, 0.6052],\n",
              "          [0.9444, 0.1970, 0.4436, 0.5813, 0.1987, 0.9589, 0.2947, 0.7369],\n",
              "          [0.3833, 0.0757, 0.4386, 0.8198, 0.3582, 0.0919, 0.9377, 0.0760],\n",
              "          [0.7796, 0.5917, 0.0065, 0.6358, 0.2739, 0.0105, 0.6152, 0.1990]],\n",
              "\n",
              "         [[0.9082, 0.8814, 0.6084, 0.1232, 0.9288, 0.5986, 0.5599, 0.2091],\n",
              "          [0.8740, 0.3272, 0.7479, 0.1005, 0.3674, 0.3584, 0.5945, 0.7126],\n",
              "          [0.1403, 0.4114, 0.7342, 0.2673, 0.0106, 0.2156, 0.7530, 0.7986],\n",
              "          [0.6678, 0.9867, 0.0274, 0.7885, 0.3838, 0.5418, 0.3052, 0.7990],\n",
              "          [0.6352, 0.3410, 0.1431, 0.7200, 0.5793, 0.5606, 0.7746, 0.7345],\n",
              "          [0.7627, 0.9499, 0.1916, 0.8177, 0.3716, 0.4012, 0.0851, 0.4092],\n",
              "          [0.3170, 0.3360, 0.0063, 0.5810, 0.1950, 0.9438, 0.9159, 0.0990]],\n",
              "\n",
              "         [[0.6110, 0.1200, 0.1426, 0.6564, 0.2142, 0.6167, 0.2709, 0.1306],\n",
              "          [0.8277, 0.1799, 0.5305, 0.2733, 0.7793, 0.7238, 0.6490, 0.0583],\n",
              "          [0.1518, 0.1465, 0.5542, 0.4829, 0.3614, 0.6252, 0.6356, 0.3324],\n",
              "          [0.6721, 0.4565, 0.5859, 0.7588, 0.5805, 0.6994, 0.2312, 0.2811],\n",
              "          [0.1678, 0.9163, 0.9518, 0.8132, 0.5962, 0.6500, 0.2720, 0.0334],\n",
              "          [0.3975, 0.4441, 0.5650, 0.3869, 0.1806, 0.6805, 0.6228, 0.8991],\n",
              "          [0.8924, 0.9968, 0.4900, 0.4508, 0.0406, 0.6268, 0.0125, 0.4258]]]])"
            ]
          },
          "metadata": {},
          "execution_count": 48
        }
      ]
    },
    {
      "cell_type": "code",
      "source": [
        "x_image = torch.rand(244,244,3)"
      ],
      "metadata": {
        "id": "su8fkjGc124R"
      },
      "execution_count": null,
      "outputs": []
    },
    {
      "cell_type": "code",
      "source": [],
      "metadata": {
        "colab": {
          "base_uri": "https://localhost:8080/"
        },
        "id": "L9isQsED2o5t",
        "outputId": "e0076afb-6925-4c9f-ecf3-9f8b55723837"
      },
      "execution_count": null,
      "outputs": [
        {
          "output_type": "execute_result",
          "data": {
            "text/plain": [
              "tensor([[[0.8557, 0.3758, 0.2179],\n",
              "         [0.5274, 0.2780, 0.7369],\n",
              "         [0.4629, 0.9218, 0.6378],\n",
              "         ...,\n",
              "         [0.8801, 0.3308, 0.5894],\n",
              "         [0.5088, 0.8423, 0.8581],\n",
              "         [0.7713, 0.2837, 0.2681]],\n",
              "\n",
              "        [[0.8302, 0.4706, 0.0545],\n",
              "         [0.3986, 0.2132, 0.3482],\n",
              "         [0.0509, 0.7071, 0.1385],\n",
              "         ...,\n",
              "         [0.8447, 0.0699, 0.4913],\n",
              "         [0.5898, 0.7101, 0.5046],\n",
              "         [0.3934, 0.2978, 0.2233]],\n",
              "\n",
              "        [[0.6152, 0.5668, 0.0836],\n",
              "         [0.3483, 0.2802, 0.4892],\n",
              "         [0.6346, 0.9758, 0.4063],\n",
              "         ...,\n",
              "         [0.1140, 0.6073, 0.0197],\n",
              "         [0.0147, 0.5978, 0.2544],\n",
              "         [0.4094, 0.5804, 0.6135]],\n",
              "\n",
              "        ...,\n",
              "\n",
              "        [[0.7511, 0.5383, 0.4777],\n",
              "         [0.7290, 0.6237, 0.0367],\n",
              "         [0.6397, 0.0209, 0.1597],\n",
              "         ...,\n",
              "         [0.6922, 0.7755, 0.3118],\n",
              "         [0.2527, 0.3727, 0.3150],\n",
              "         [0.8413, 0.5279, 0.2046]],\n",
              "\n",
              "        [[0.6585, 0.1424, 0.9772],\n",
              "         [0.9027, 0.6765, 0.9137],\n",
              "         [0.9991, 0.5175, 0.5809],\n",
              "         ...,\n",
              "         [0.6776, 0.4291, 0.0678],\n",
              "         [0.3973, 0.2313, 0.8126],\n",
              "         [0.1844, 0.1710, 0.5870]],\n",
              "\n",
              "        [[0.1160, 0.5325, 0.4684],\n",
              "         [0.1686, 0.4840, 0.4234],\n",
              "         [0.6616, 0.6098, 0.7245],\n",
              "         ...,\n",
              "         [0.4438, 0.6952, 0.6084],\n",
              "         [0.5308, 0.8301, 0.5672],\n",
              "         [0.6445, 0.2116, 0.8278]]])"
            ]
          },
          "metadata": {},
          "execution_count": 50
        }
      ]
    },
    {
      "cell_type": "markdown",
      "source": [
        "PyTorch tensors & NumPy\n",
        "Since NumPy is a popular Python numerical computing library, PyTorch has functionality to interact with it nicely.\n",
        "\n",
        "\n",
        "The two main methods you'll want to use for NumPy to PyTorch (and back again) are:\n",
        "\n",
        "torch.from_numpy(ndarray) - NumPy array -> PyTorch tensor.\n",
        "\n",
        "\n",
        "\n",
        "torch.Tensor.numpy() - PyTorch tensor -> NumPy array."
      ],
      "metadata": {
        "id": "s_pyXn9FUEkw"
      }
    },
    {
      "cell_type": "code",
      "source": [
        "import torch\n",
        "import numpy as np\n",
        "array = np.arange(1.0, 8.0)\n",
        "tensor = torch.from_numpy(array)\n",
        "array, tensor"
      ],
      "metadata": {
        "colab": {
          "base_uri": "https://localhost:8080/"
        },
        "id": "KCX0BxLZ4BEl",
        "outputId": "f1cedfe9-5812-4264-d988-34660afaa727"
      },
      "execution_count": 1,
      "outputs": [
        {
          "output_type": "execute_result",
          "data": {
            "text/plain": [
              "(array([1., 2., 3., 4., 5., 6., 7.]),\n",
              " tensor([1., 2., 3., 4., 5., 6., 7.], dtype=torch.float64))"
            ]
          },
          "metadata": {},
          "execution_count": 1
        }
      ]
    },
    {
      "cell_type": "code",
      "source": [
        "array += 1\n",
        "tensor"
      ],
      "metadata": {
        "colab": {
          "base_uri": "https://localhost:8080/"
        },
        "id": "nYy8AjhGUdhx",
        "outputId": "ae23467d-03b5-4919-cd76-1f4089a6a6a3"
      },
      "execution_count": 2,
      "outputs": [
        {
          "output_type": "execute_result",
          "data": {
            "text/plain": [
              "tensor([2., 3., 4., 5., 6., 7., 8.], dtype=torch.float64)"
            ]
          },
          "metadata": {},
          "execution_count": 2
        }
      ]
    },
    {
      "cell_type": "code",
      "source": [
        "tensor.dtype"
      ],
      "metadata": {
        "colab": {
          "base_uri": "https://localhost:8080/"
        },
        "id": "5mE1mkaVVvaG",
        "outputId": "34aa9bf1-c831-4bbf-a6f4-14a567f79c81"
      },
      "execution_count": 3,
      "outputs": [
        {
          "output_type": "execute_result",
          "data": {
            "text/plain": [
              "torch.float64"
            ]
          },
          "metadata": {},
          "execution_count": 3
        }
      ]
    },
    {
      "cell_type": "code",
      "source": [
        "#rondom seed\n",
        "random_seed_value = 42\n",
        "torch.manual_seed(random_seed_value)\n",
        "a = torch.rand(3,3)\n",
        "\n",
        "torch.manual_seed(random_seed_value)\n",
        "b = torch.rand(3,3)\n",
        "print(a==b)"
      ],
      "metadata": {
        "colab": {
          "base_uri": "https://localhost:8080/"
        },
        "id": "HMh8lS6LWMFE",
        "outputId": "4ce79fd7-ff85-4146-a619-78d42337f40d"
      },
      "execution_count": 4,
      "outputs": [
        {
          "output_type": "stream",
          "name": "stdout",
          "text": [
            "tensor([[True, True, True],\n",
            "        [True, True, True],\n",
            "        [True, True, True]])\n"
          ]
        }
      ]
    },
    {
      "cell_type": "code",
      "source": [
        "if 0.9513 in  a[0][:].tolist():\n",
        "  print(\"match\")\n",
        "else:\n",
        "  print(a[0][:].tolist())"
      ],
      "metadata": {
        "colab": {
          "base_uri": "https://localhost:8080/"
        },
        "id": "tVgzryN0Wqa1",
        "outputId": "99b82afe-d741-47d9-b09b-9a4b4be3a255"
      },
      "execution_count": 5,
      "outputs": [
        {
          "output_type": "stream",
          "name": "stdout",
          "text": [
            "[0.8822692632675171, 0.9150039553642273, 0.38286375999450684]\n"
          ]
        }
      ]
    },
    {
      "cell_type": "code",
      "source": [
        "device = \"cuda\" if torch.cuda.is_available() else \"cpu\"\n",
        "device"
      ],
      "metadata": {
        "colab": {
          "base_uri": "https://localhost:8080/",
          "height": 36
        },
        "id": "q8H8VogcXW55",
        "outputId": "2e6e29de-a45b-4ed5-8be6-3b60f1b7bdae"
      },
      "execution_count": 6,
      "outputs": [
        {
          "output_type": "execute_result",
          "data": {
            "text/plain": [
              "'cuda'"
            ],
            "application/vnd.google.colaboratory.intrinsic+json": {
              "type": "string"
            }
          },
          "metadata": {},
          "execution_count": 6
        }
      ]
    },
    {
      "cell_type": "code",
      "source": [
        "tensor_gpu = tensor.to(device) #tensor.cuda() --another method--"
      ],
      "metadata": {
        "id": "XlNhBChyYMhK"
      },
      "execution_count": 7,
      "outputs": []
    },
    {
      "cell_type": "code",
      "source": [
        "tensor_gpu, tensor_gpu.device"
      ],
      "metadata": {
        "colab": {
          "base_uri": "https://localhost:8080/"
        },
        "id": "TV1Js60ZlCBC",
        "outputId": "d8d1d967-3d51-4687-871e-973df7307653"
      },
      "execution_count": 12,
      "outputs": [
        {
          "output_type": "execute_result",
          "data": {
            "text/plain": [
              "(tensor([2., 3., 4., 5., 6., 7., 8.], device='cuda:0', dtype=torch.float64),\n",
              " device(type='cuda', index=0))"
            ]
          },
          "metadata": {},
          "execution_count": 12
        }
      ]
    },
    {
      "cell_type": "code",
      "source": [
        "tensor_gpu.to(\"cpu\").numpy() # tensor_gpu.cpu().numpy() --another method--"
      ],
      "metadata": {
        "colab": {
          "base_uri": "https://localhost:8080/"
        },
        "id": "YQ1HTCoalKji",
        "outputId": "9bf7a674-92f7-4878-ec64-5176e8fc1d06"
      },
      "execution_count": 22,
      "outputs": [
        {
          "output_type": "execute_result",
          "data": {
            "text/plain": [
              "array([2., 3., 4., 5., 6., 7., 8.])"
            ]
          },
          "metadata": {},
          "execution_count": 22
        }
      ]
    },
    {
      "cell_type": "code",
      "source": [
        "temp1 = torch.rand(1,1,2)\n",
        "print(temp1)\n",
        "print(temp1.squeeze())\n",
        "print(temp1.squeeze().ndim)"
      ],
      "metadata": {
        "colab": {
          "base_uri": "https://localhost:8080/"
        },
        "id": "t-jAW9malZZI",
        "outputId": "7f7192f1-1934-4137-883f-d69a5e05ec9d"
      },
      "execution_count": 49,
      "outputs": [
        {
          "output_type": "stream",
          "name": "stdout",
          "text": [
            "tensor([[[0.0041, 0.1088]]])\n",
            "tensor([0.0041, 0.1088])\n",
            "1\n"
          ]
        }
      ]
    }
  ]
}